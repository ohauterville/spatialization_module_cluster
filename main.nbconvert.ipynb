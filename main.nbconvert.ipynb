{
 "cells": [
  {
   "cell_type": "code",
   "execution_count": 1,
   "metadata": {
    "execution": {
     "iopub.execute_input": "2024-11-07T14:55:10.610645Z",
     "iopub.status.busy": "2024-11-07T14:55:10.609424Z",
     "iopub.status.idle": "2024-11-07T14:55:10.624428Z",
     "shell.execute_reply": "2024-11-07T14:55:10.623087Z"
    }
   },
   "outputs": [
    {
     "name": "stdout",
     "output_type": "stream",
     "text": [
      "2024-11-07 15:55:10.620562\n"
     ]
    }
   ],
   "source": [
    "from datetime import datetime\n",
    "\n",
    "# Get the current date and time\n",
    "current_datetime = datetime.now()\n",
    "\n",
    "print(current_datetime)"
   ]
  },
  {
   "cell_type": "markdown",
   "metadata": {},
   "source": [
    "# Spatio Temporal Logistic\n",
    "This notebook is the first test of a spatio temporal logistic to link properly the **built-up surface** of a given region depending on its quality of life (**GDP/cap**) and of its **population density**."
   ]
  },
  {
   "cell_type": "code",
   "execution_count": 2,
   "metadata": {
    "execution": {
     "iopub.execute_input": "2024-11-07T14:55:10.672591Z",
     "iopub.status.busy": "2024-11-07T14:55:10.671659Z",
     "iopub.status.idle": "2024-11-07T14:55:14.945882Z",
     "shell.execute_reply": "2024-11-07T14:55:14.945048Z"
    }
   },
   "outputs": [],
   "source": [
    "import numpy as np\n",
    "from Region import Region\n",
    "from Df import Df\n",
    "import pandas as pd\n",
    "import geopandas as gpd\n",
    "import os"
   ]
  },
  {
   "cell_type": "code",
   "execution_count": 3,
   "metadata": {
    "execution": {
     "iopub.execute_input": "2024-11-07T14:55:14.949777Z",
     "iopub.status.busy": "2024-11-07T14:55:14.949441Z",
     "iopub.status.idle": "2024-11-07T14:55:14.953236Z",
     "shell.execute_reply": "2024-11-07T14:55:14.952590Z"
    }
   },
   "outputs": [],
   "source": [
    "from concurrent.futures import ThreadPoolExecutor\n",
    "import itertools\n",
    "from colorama import Fore, Style# init"
   ]
  },
  {
   "cell_type": "code",
   "execution_count": 4,
   "metadata": {
    "execution": {
     "iopub.execute_input": "2024-11-07T14:55:14.956230Z",
     "iopub.status.busy": "2024-11-07T14:55:14.956015Z",
     "iopub.status.idle": "2024-11-07T14:55:14.959594Z",
     "shell.execute_reply": "2024-11-07T14:55:14.958890Z"
    }
   },
   "outputs": [],
   "source": [
    "max_workers = 12"
   ]
  },
  {
   "cell_type": "markdown",
   "metadata": {},
   "source": [
    "## Part 0 : Theory\n",
    "First we define some classical functions that will be used later for our modelisation.\n",
    "\n",
    "### The logistic function\n",
    "$f(t) = \\frac{S}{1+e^{(-k(t-t_0))}}$\n",
    "\n",
    "with: \n",
    "- *S* : the saturation level\n",
    "- *k* : the slope\n",
    "- $t_0$ : the half height value (left right alignement).\n",
    "\n",
    "The logistic function serves as a predictive equation and as the motor of our dynamical models. Indeed, we observe that at the country scale, as time passes, the GDP/cap increases and some observables as the number of cars or as the number of m2/cap. This means that the quality of life, and thus the stocks consumed by a region improve. But this exponential growth does not increase indefinetely. A saturation is observed even if the GDP/cap still increase. This is explained because people usually do not own 2 or 3 cars even though they possess the money to. An logistic function, also known as the S curve, is a way to model this observation.\n",
    "\n",
    "### The exponential decay function\n",
    "$f(x) = a\\, e^{-b\\,x}+c$\n",
    "\n",
    "with:\n",
    "- *a* : the slope\n",
    "- *b* : the half-life\n",
    "- *c* : the bias.\n",
    "\n",
    "The exponential decay is a decreasing exponential observed in nature (for example for the probability of nuclear decay over time). This is one of our assumption to model the decreasing phenomena observed betwenn the **built-up surface/cap** and the **population density** of a region."
   ]
  },
  {
   "cell_type": "code",
   "execution_count": 5,
   "metadata": {
    "execution": {
     "iopub.execute_input": "2024-11-07T14:55:14.962889Z",
     "iopub.status.busy": "2024-11-07T14:55:14.962677Z",
     "iopub.status.idle": "2024-11-07T14:55:14.968138Z",
     "shell.execute_reply": "2024-11-07T14:55:14.967313Z"
    }
   },
   "outputs": [],
   "source": [
    "def logistic(x, a, b, c):\n",
    "    return a / (1 + np.exp(-b*(x-c)))\n",
    "\n",
    "def exponential_decay(X, a, b, c):\n",
    "    return a * np.exp(-b * X) + c\n",
    "\n",
    "def exponential_decay2(X, a, b):\n",
    "    return a * np.exp(-b * X) "
   ]
  },
  {
   "cell_type": "markdown",
   "metadata": {},
   "source": [
    "### The Spatio Temporal Logistic function\n",
    "$f(t,x) = \\frac{a\\,e^{-b\\,x}+c}{1 + e^{(-k(t-t_0))}}$\n",
    "\n",
    "The Spatio Temporal Logistic function (**STL**) is the mix between our classical logistic expression and the exponential decay as S (the saturation level)."
   ]
  },
  {
   "cell_type": "code",
   "execution_count": 6,
   "metadata": {
    "execution": {
     "iopub.execute_input": "2024-11-07T14:55:14.971786Z",
     "iopub.status.busy": "2024-11-07T14:55:14.971244Z",
     "iopub.status.idle": "2024-11-07T14:55:14.976467Z",
     "shell.execute_reply": "2024-11-07T14:55:14.975555Z"
    }
   },
   "outputs": [],
   "source": [
    "def STL(X, a, b, c, d, e):\n",
    "    # STL stands for Spatio Temporal Logistic. It is an refinment of a logistic, dependant on time (here the GDP per capita serves \n",
    "    # as proxy for time), with a saturation level which is a function of space (here the population density of a region)\n",
    "    x1, x2 = X\n",
    "    saturation = exponential_decay(x2, a, b,c)\n",
    "    return saturation / (1 + np.exp(-d*(x1-e)))"
   ]
  },
  {
   "cell_type": "markdown",
   "metadata": {},
   "source": [
    "## PART 1 : Initialisation\n",
    "Initialisation of the analysis parameters.\n",
    "\n",
    "- **region_names** : (*string*) the country to study, named by their ISO3 \n",
    "- **years** : (*string*) years to study\n",
    "- **raster_S** : (*string*) letter used in the **GHSL** dataset (S, S_NRES, POP, ...)\n",
    "- **lvl** : (*int*) the level of our administrative data (GDP and population)\n",
    "- **subregion_borders** : (*string*) the path to administrative border shapefile to cut the subregions \n",
    "- **i dentifier** : (*string*) the column name to match the region names between the administrative data and the GIS data\n",
    "\n",
    "To each region is associated a **DataFrame** (*oecd_DF_merged*) with the subregions matching administrative observables (GDP, population, etc)."
   ]
  },
  {
   "cell_type": "code",
   "execution_count": 7,
   "metadata": {
    "execution": {
     "iopub.execute_input": "2024-11-07T14:55:14.980202Z",
     "iopub.status.busy": "2024-11-07T14:55:14.979718Z",
     "iopub.status.idle": "2024-11-07T14:55:14.984501Z",
     "shell.execute_reply": "2024-11-07T14:55:14.983617Z"
    }
   },
   "outputs": [],
   "source": [
    "lvl = 2\n",
    "\n",
    "# GHSL type\n",
    "raster_str = \"Built_S\"\n",
    "with_parents_computation = False"
   ]
  },
  {
   "cell_type": "code",
   "execution_count": 8,
   "metadata": {
    "execution": {
     "iopub.execute_input": "2024-11-07T14:55:14.988573Z",
     "iopub.status.busy": "2024-11-07T14:55:14.987963Z",
     "iopub.status.idle": "2024-11-07T14:55:14.994373Z",
     "shell.execute_reply": "2024-11-07T14:55:14.993332Z"
    }
   },
   "outputs": [],
   "source": [
    "data_folder = \"/data/mineralogie/hautervo/data/\"\n",
    "folder_GHSL_OECD = data_folder + \"Outputs/GHSL_OECD/\" + raster_str + \"/TL\" + str(lvl) + \"/\"\n",
    "folder_OSM_building = data_folder + \"Outputs/OSM/building/TL\" + str(lvl) + \"/\""
   ]
  },
  {
   "cell_type": "code",
   "execution_count": 9,
   "metadata": {
    "execution": {
     "iopub.execute_input": "2024-11-07T14:55:14.998750Z",
     "iopub.status.busy": "2024-11-07T14:55:14.998167Z",
     "iopub.status.idle": "2024-11-07T14:55:15.030624Z",
     "shell.execute_reply": "2024-11-07T14:55:15.029795Z"
    }
   },
   "outputs": [],
   "source": [
    "# Make the OECD complete DF\n",
    "oecd_gdp_per_cap_file = data_folder + r\"OECD/GDP per capita/TL\" + str(lvl) + r\"/Gross Domestic Product per capita, in USD.csv\"\n",
    "oecd_population_file = data_folder + r\"OECD/Population/TL\" + str(lvl) + r\"/Resident population.csv\"\n",
    "\n",
    "oecd_gdp_per_capita_df = pd.read_csv(oecd_gdp_per_cap_file, skiprows=0, header=1)\n",
    "oecd_population_df = pd.read_csv(oecd_population_file, skiprows=0, header=1)\n",
    "\n",
    "df_list = []\n",
    "df_list.append(oecd_gdp_per_capita_df)\n",
    "df_list.append(oecd_population_df)\n",
    "\n",
    "subregion_col = \"tl\"+str(lvl)+\"_id\"\n",
    "parent_col = \"iso3\"\n",
    "\n",
    "for df in df_list:\n",
    "    df[subregion_col] = df[\"Code\"]"
   ]
  },
  {
   "cell_type": "code",
   "execution_count": 10,
   "metadata": {
    "execution": {
     "iopub.execute_input": "2024-11-07T14:55:15.034361Z",
     "iopub.status.busy": "2024-11-07T14:55:15.034084Z",
     "iopub.status.idle": "2024-11-07T14:55:31.578611Z",
     "shell.execute_reply": "2024-11-07T14:55:31.577850Z"
    }
   },
   "outputs": [],
   "source": [
    "# The OECD admin units\n",
    "\n",
    "oecd_admin_units = data_folder + \"OECD/admin_units/TL\" + str(lvl) + \"/OECD_TL\" + str(lvl) + \"_2020_ESRI54009.shp\"\n",
    "gpd_oecd_admin_units = gpd.read_file(oecd_admin_units)"
   ]
  },
  {
   "cell_type": "code",
   "execution_count": 11,
   "metadata": {
    "execution": {
     "iopub.execute_input": "2024-11-07T14:55:31.582345Z",
     "iopub.status.busy": "2024-11-07T14:55:31.582158Z",
     "iopub.status.idle": "2024-11-07T14:55:31.585972Z",
     "shell.execute_reply": "2024-11-07T14:55:31.585295Z"
    }
   },
   "outputs": [],
   "source": [
    "# Countries to ignore from our study (not enough data)\n",
    "country_to_pop = [\"SRB\", \"CRI\", \"ISR\", \"CYP\", \"ISL\", \"ALB\", \"LIE\",\"MNE\",\"MKD\"]"
   ]
  },
  {
   "cell_type": "code",
   "execution_count": 12,
   "metadata": {
    "execution": {
     "iopub.execute_input": "2024-11-07T14:55:31.589200Z",
     "iopub.status.busy": "2024-11-07T14:55:31.588999Z",
     "iopub.status.idle": "2024-11-07T14:55:31.607582Z",
     "shell.execute_reply": "2024-11-07T14:55:31.606734Z"
    }
   },
   "outputs": [],
   "source": [
    "regions_names = list(oecd_gdp_per_capita_df[\"Country\"].unique())\n",
    "\n",
    "#exclude the countries\n",
    "for c in country_to_pop:\n",
    "    regions_names.pop(regions_names.index(c))\n",
    "\n",
    "# regions_names = [\"FRA\", \"DEU\", \"GBR\", \"BEL\", \"ITA\", \"LUX\", \"ESP\", \"USA\", \"JPN\", \"CAN\", \"AUS\"] # to remove\n",
    "# regions_names = [\"FRA\", \"DEU\", \"GBR\", \"BEL\", \"ITA\", \"LUX\", \"ESP\"] # to remove\n",
    "regions_names = [\"FRA\"]\n",
    "\n",
    "# years = [\"1975\", \"1990\", \"2000\", \"2010\", \"2020\"] \n",
    "years = [\"2000\", \"2010\", \"2020\"]\n",
    "# years = [\"2020\"]\n",
    "\n",
    "\n",
    "\n",
    "regions = []\n",
    "\n",
    "for name in regions_names:\n",
    "    new_region = Region(name, lvl-1)\n",
    "    regions.append(new_region)\n",
    "\n",
    "    for y in years:        \n",
    "        new_region.add_gis(data_folder + \"GHSL/\"+ raster_str + \"/E\" + y + \"_100m_Global/subregions/\" + name + \".tif\", raster_str + \"_\" + y, str(y), lvl-1) \n",
    "        new_region.add_gis(data_folder + \"GHSL/Built_POP/E\" + y + \"_100m_Global/subregions/\" + name + \".tif\", \"Built_POP_\" + y, str(y), lvl-1) \n",
    "\n"
   ]
  },
  {
   "cell_type": "markdown",
   "metadata": {},
   "source": [
    "## PART 2 : Computation of the observables\n",
    "Now that we define all the parameters of our study, we will cut the regions into their respective subregions (*make_subregions*). \n",
    "\n",
    "We then compute for each subregions GIS, the geographical observables that we store in its oecd_DF_merged."
   ]
  },
  {
   "cell_type": "code",
   "execution_count": 13,
   "metadata": {
    "execution": {
     "iopub.execute_input": "2024-11-07T14:55:31.611704Z",
     "iopub.status.busy": "2024-11-07T14:55:31.611237Z",
     "iopub.status.idle": "2024-11-07T14:55:31.628441Z",
     "shell.execute_reply": "2024-11-07T14:55:31.627584Z"
    }
   },
   "outputs": [],
   "source": [
    "def compute_parallel_GHSL_values(subregion, overwrite):    \n",
    "    csv_path = os.path.join(folder_GHSL_OECD, subregion.parent_name, subregion.name, '_'.join(years))+\".csv\"\n",
    "    if not os.path.isfile(csv_path) or overwrite:\n",
    "        output_df = pd.DataFrame({\"year\": years, \"GDP per capita\":None, \"Population_OECD\": None, \"Population_GHSL\": None, \"Built up surface GHSL/Population_OECD\": None, \"Population_OECD/Total surface\": None})\n",
    "\n",
    "        for y in years:\n",
    "            # first use the Built_S gis\n",
    "            gis = next((gis for gis in subregion.gis_list if gis.name == raster_str + \"_\" + y), None)\n",
    "            if gis != None:\n",
    "                output_df.loc[output_df[\"year\"]==y, \"Built up surface GHSL\"] = int(gis.get_total_sum_pixel_values())\n",
    "                output_df.loc[output_df[\"year\"]==y, \"Total surface\"] = int(1e4 * gis.get_total_number_pixels() )\n",
    "                output_df.loc[output_df[\"year\"]==y, \"Built up surface fraction\"] = output_df.loc[output_df[\"year\"]==y, \"Built up surface GHSL\"] / output_df.loc[output_df[\"year\"]==y, \"Total surface\"]\n",
    "            else:\n",
    "                print(Fore.RED, \"Gis \", raster_str + \"_\" + y, \" not found.\", Style.RESET_ALL)\n",
    "\n",
    "            # Second use the Built_POP gis\n",
    "            gis = next((gis for gis in subregion.gis_list if gis.name == \"Built_POP_\" + y), None)\n",
    "            if gis != None:\n",
    "                output_df.loc[output_df[\"year\"]==y, \"Population_GHSL\"] = int(gis.get_total_sum_pixel_values())\n",
    "            else:\n",
    "                print(Fore.RED, \"Gis \", \"Built_POP_\" + y, \" not found.\", Style.RESET_ALL)\n",
    "\n",
    "            ### fill the DF\n",
    "            try:\n",
    "                output_df.loc[output_df[\"year\"]==y, \"GDP per capita\"] = oecd_gdp_per_capita_df.loc[oecd_gdp_per_capita_df[subregion_col]==subregion.name, y].values[0]\n",
    "            except:\n",
    "                print(\"Missing: \", subregion.name, \" \", y, \" GDP per capita.\")\n",
    "            \n",
    "            try:\n",
    "                output_df.loc[output_df[\"year\"]==y, \"Population_OECD\"] = oecd_population_df.loc[oecd_population_df[subregion_col]==subregion.name, y].values[0]               \n",
    "                # output\n",
    "                if output_df.loc[output_df[\"year\"]==y, \"Population_OECD\"] is not np.nan:\n",
    "                    output_df.loc[output_df[\"year\"]==y, \"Population_OECD/Total surface\"] = output_df.loc[output_df[\"year\"]==y, \"Population_OECD\"] / output_df.loc[output_df[\"year\"]==y, \"Total surface\"]\n",
    "                    output_df.loc[output_df[\"year\"]==y, \"Built up surface GHSL/Population_OECD\"] = output_df.loc[output_df[\"year\"]==y, \"Built up surface GHSL\"] / output_df.loc[output_df[\"year\"]==y, \"Population_OECD\"]\n",
    "            except:\n",
    "                print(\"Missing: \", subregion.name, \" \", y, \" Population_OECD.\")\n",
    "\n",
    "        # save the new df\n",
    "        os.makedirs(os.path.dirname(csv_path), exist_ok=\"True\")\n",
    "        output_df.to_csv(csv_path, index=False)\n",
    "        subregion.output_df_list.append(Df(output_df, \"GHLS_OECD\"))\n",
    "    else:\n",
    "        #use a precomputed csv\n",
    "        subregion.output_df_list.append(Df(pd.read_csv(csv_path), \"GHSL_OECD\"))"
   ]
  },
  {
   "cell_type": "code",
   "execution_count": 14,
   "metadata": {
    "execution": {
     "iopub.execute_input": "2024-11-07T14:55:31.631949Z",
     "iopub.status.busy": "2024-11-07T14:55:31.631550Z",
     "iopub.status.idle": "2024-11-07T14:55:31.639559Z",
     "shell.execute_reply": "2024-11-07T14:55:31.638760Z"
    }
   },
   "outputs": [],
   "source": [
    "def compute_parallel_OSM_area(subregion, overwrite): \n",
    "    gis_name = \"OSM_building\"  \n",
    "    csv_path = os.path.join(folder_OSM_building, subregion.parent_name, subregion.name,  subregion.name +\".csv\")\n",
    "\n",
    "    if not os.path.isfile(csv_path) or overwrite:\n",
    "        gis = next((gis for gis in subregion.gis_list if gis.name == gis_name), None)\n",
    "        if gis is not None:\n",
    "            try:\n",
    "                shp = gpd.read_file(gis.file)\n",
    "                print(\"Starting area OSM \", gis.file)\n",
    "                value = (shp[\"geometry\"].area).sum()\n",
    "                output_df = pd.DataFrame({gis_name+\"_area\":value}, index=[0])\n",
    "\n",
    "                # save the new df\n",
    "                os.makedirs(os.path.dirname(csv_path), exist_ok=\"True\")\n",
    "                output_df.to_csv(csv_path, index=False)\n",
    "                subregion.output_df_list.append(Df(output_df, gis_name))\n",
    "                print(\"Ending area OSM \", gis.file)\n",
    "            except Exception as e:\n",
    "                print(e)\n",
    "        else:\n",
    "            print(f\"GIS: {gis_name} not found.\")\n",
    "    else:\n",
    "        #use a precomputed csv\n",
    "        subregion.output_df_list.append(Df(pd.read_csv(csv_path), gis_name))\n",
    "    "
   ]
  },
  {
   "cell_type": "markdown",
   "metadata": {},
   "source": [
    "### Preprocess with the desired computational methods"
   ]
  },
  {
   "cell_type": "code",
   "execution_count": 15,
   "metadata": {
    "execution": {
     "iopub.execute_input": "2024-11-07T14:55:31.643071Z",
     "iopub.status.busy": "2024-11-07T14:55:31.642733Z",
     "iopub.status.idle": "2024-11-07T14:55:31.651862Z",
     "shell.execute_reply": "2024-11-07T14:55:31.651044Z"
    }
   },
   "outputs": [],
   "source": [
    "def preprocess():\n",
    "    #Step 1 : make subregions\n",
    "    overwrite = False\n",
    "\n",
    "    print(Fore.GREEN + \"Starting make_subregions()\" + Style.RESET_ALL)\n",
    "    with ThreadPoolExecutor(max_workers=max_workers) as executor:\n",
    "        list(executor.map(lambda region: region.make_subregions(gpd_oecd_admin_units, subregion_col, parent_col, overwrite=overwrite), regions))\n",
    "\n",
    "    #Step 2.1 : Computation\n",
    "    overwrite = False\n",
    "\n",
    "    subregions_list_parallel = []\n",
    "\n",
    "    for region in regions:\n",
    "        for subregion in region.subregions:\n",
    "            subregions_list_parallel.append(subregion)\n",
    "            try:\n",
    "                file = os.path.join(folder_OSM_building, subregion.parent_name, subregion.name, subregion.name +\".shp\")\n",
    "                if os.path.isfile(file):\n",
    "                    subregion.add_gis(file, \"OSM_building\", \"\", \"\")\n",
    "                else:\n",
    "                    print(f\"File {file} not found.\")\n",
    "            except Exception as e:\n",
    "                print(e)\n",
    "\n",
    "    print(Fore.GREEN + \"Starting GHSL_observable_computation()\" + Style.RESET_ALL)\n",
    "    with ThreadPoolExecutor(max_workers=max_workers) as executor:\n",
    "        executor.map(compute_parallel_GHSL_values, subregions_list_parallel, itertools.repeat(overwrite))\n",
    "\n",
    "    print(Fore.GREEN + \"Starting OSM_area_computation()\" + Style.RESET_ALL)\n",
    "    with ThreadPoolExecutor(max_workers=max_workers) as executor:\n",
    "        executor.map(compute_parallel_OSM_area, subregions_list_parallel, itertools.repeat(overwrite))\n",
    "\n",
    "    del subregions_list_parallel # not needed anymore\n",
    "\n",
    "    if with_parents_computation:\n",
    "        print(Fore.GREEN + \"Starting computing region DF\" + Style.RESET_ALL)\n",
    "        with ThreadPoolExecutor(max_workers=max_workers) as executor:\n",
    "            executor.map(lambda region: region.compute_own_df(years, \"GHSL_OECD\"), regions)"
   ]
  },
  {
   "cell_type": "code",
   "execution_count": 16,
   "metadata": {
    "execution": {
     "iopub.execute_input": "2024-11-07T14:55:31.655175Z",
     "iopub.status.busy": "2024-11-07T14:55:31.654909Z",
     "iopub.status.idle": "2024-11-07T17:50:05.031509Z",
     "shell.execute_reply": "2024-11-07T17:50:05.029190Z"
    }
   },
   "outputs": [
    {
     "name": "stdout",
     "output_type": "stream",
     "text": [
      "\u001b[32mStarting make_subregions()\u001b[0m\n",
      "Something went wrong while trying to cut a raster for\n",
      " FRY1 Input shapes do not overlap raster.\n",
      "Something went wrong with the mask!\n"
     ]
    },
    {
     "name": "stdout",
     "output_type": "stream",
     "text": [
      "Something went wrong while trying to cut a raster for\n",
      " FRY1 Input shapes do not overlap raster.\n",
      "Something went wrong with the mask!\n",
      "Something went wrong while trying to cut a raster for\n",
      " FRY1 Input shapes do not overlap raster.\n",
      "Something went wrong with the mask!\n",
      "Something went wrong while trying to cut a raster for\n",
      " FRY1 Input shapes do not overlap raster.\n",
      "Something went wrong with the mask!\n",
      "Something went wrong while trying to cut a raster for\n",
      " FRY1 Input shapes do not overlap raster.\n",
      "Something went wrong with the mask!\n",
      "Something went wrong while trying to cut a raster for\n",
      " FRY1 Input shapes do not overlap raster.\n",
      "Something went wrong with the mask!\n",
      "Something went wrong while trying to cut a raster for\n",
      " FRY2 Input shapes do not overlap raster.\n",
      "Something went wrong with the mask!\n",
      "Something went wrong while trying to cut a raster for\n",
      " FRY2 Input shapes do not overlap raster.\n",
      "Something went wrong with the mask!\n",
      "Something went wrong while trying to cut a raster for\n",
      " FRY2 Input shapes do not overlap raster.\n",
      "Something went wrong with the mask!\n",
      "Something went wrong while trying to cut a raster for\n",
      " FRY2 Input shapes do not overlap raster.\n",
      "Something went wrong with the mask!\n",
      "Something went wrong while trying to cut a raster for\n",
      " FRY2 Input shapes do not overlap raster.\n",
      "Something went wrong with the mask!\n",
      "Something went wrong while trying to cut a raster for\n",
      " FRY2 Input shapes do not overlap raster.\n",
      "Something went wrong with the mask!\n",
      "Something went wrong while trying to cut a raster for\n",
      " FRY3 Input shapes do not overlap raster.\n",
      "Something went wrong with the mask!\n",
      "Something went wrong while trying to cut a raster for\n",
      " FRY3 Input shapes do not overlap raster.\n",
      "Something went wrong with the mask!\n",
      "Something went wrong while trying to cut a raster for\n",
      " FRY3 Input shapes do not overlap raster.\n",
      "Something went wrong with the mask!\n",
      "Something went wrong while trying to cut a raster for\n",
      " FRY3 Input shapes do not overlap raster.\n",
      "Something went wrong with the mask!\n",
      "Something went wrong while trying to cut a raster for\n",
      " FRY3 Input shapes do not overlap raster.\n",
      "Something went wrong with the mask!\n",
      "Something went wrong while trying to cut a raster for\n",
      " FRY3 Input shapes do not overlap raster.\n",
      "Something went wrong with the mask!\n"
     ]
    },
    {
     "name": "stdout",
     "output_type": "stream",
     "text": [
      "Something went wrong while trying to cut a raster for\n",
      " FRY4 Input shapes do not overlap raster.\n",
      "Something went wrong with the mask!\n",
      "Something went wrong while trying to cut a raster for\n",
      " FRY4 Input shapes do not overlap raster.\n",
      "Something went wrong with the mask!\n",
      "Something went wrong while trying to cut a raster for\n",
      " FRY4 Input shapes do not overlap raster.\n",
      "Something went wrong with the mask!\n",
      "Something went wrong while trying to cut a raster for\n",
      " FRY4 Input shapes do not overlap raster.\n",
      "Something went wrong with the mask!\n",
      "Something went wrong while trying to cut a raster for\n",
      " FRY4 Input shapes do not overlap raster.\n",
      "Something went wrong with the mask!\n"
     ]
    },
    {
     "name": "stdout",
     "output_type": "stream",
     "text": [
      "Something went wrong while trying to cut a raster for\n",
      " FRY4 Input shapes do not overlap raster.\n",
      "Something went wrong with the mask!\n",
      "Something went wrong while trying to cut a raster for\n",
      " FRY5 Input shapes do not overlap raster.\n",
      "Something went wrong with the mask!\n",
      "Something went wrong while trying to cut a raster for\n",
      " FRY5 Input shapes do not overlap raster.\n",
      "Something went wrong with the mask!\n",
      "Something went wrong while trying to cut a raster for\n",
      " FRY5 Input shapes do not overlap raster.\n",
      "Something went wrong with the mask!\n"
     ]
    },
    {
     "name": "stdout",
     "output_type": "stream",
     "text": [
      "Something went wrong while trying to cut a raster for\n",
      " FRY5 Input shapes do not overlap raster.\n",
      "Something went wrong with the mask!\n",
      "Something went wrong while trying to cut a raster for\n",
      " FRY5 Input shapes do not overlap raster.\n",
      "Something went wrong with the mask!\n",
      "Something went wrong while trying to cut a raster for\n",
      " FRY5 Input shapes do not overlap raster.\n",
      "Something went wrong with the mask!\n",
      "END:  FRA\n",
      "File /data/mineralogie/hautervo/data/Outputs/OSM/building/TL2/FRA/FRL/FRL.shp not found.\n",
      "File /data/mineralogie/hautervo/data/Outputs/OSM/building/TL2/FRA/FRY5/FRY5.shp not found.\n",
      "\u001b[32mStarting GHSL_observable_computation()\u001b[0m\n",
      "\u001b[32mStarting OSM_area_computation()\u001b[0m\n"
     ]
    },
    {
     "name": "stdout",
     "output_type": "stream",
     "text": [
      "Starting area OSM  /data/mineralogie/hautervo/data/Outputs/OSM/building/TL2/FRA/FRM/FRM.shp\n"
     ]
    },
    {
     "name": "stdout",
     "output_type": "stream",
     "text": [
      "Ending area OSM  /data/mineralogie/hautervo/data/Outputs/OSM/building/TL2/FRA/FRM/FRM.shp\n"
     ]
    },
    {
     "name": "stdout",
     "output_type": "stream",
     "text": [
      "Starting area OSM  /data/mineralogie/hautervo/data/Outputs/OSM/building/TL2/FRA/FRY4/FRY4.shp\n"
     ]
    },
    {
     "name": "stdout",
     "output_type": "stream",
     "text": [
      "Ending area OSM  /data/mineralogie/hautervo/data/Outputs/OSM/building/TL2/FRA/FRY4/FRY4.shp\n"
     ]
    },
    {
     "name": "stdout",
     "output_type": "stream",
     "text": [
      "GIS: OSM_building not found.\n",
      "GIS: OSM_building not found.\n"
     ]
    },
    {
     "name": "stdout",
     "output_type": "stream",
     "text": [
      "Starting area OSM  /data/mineralogie/hautervo/data/Outputs/OSM/building/TL2/FRA/FRB/FRB.shp\n"
     ]
    },
    {
     "name": "stdout",
     "output_type": "stream",
     "text": [
      "Ending area OSM  /data/mineralogie/hautervo/data/Outputs/OSM/building/TL2/FRA/FRB/FRB.shp\n"
     ]
    },
    {
     "name": "stdout",
     "output_type": "stream",
     "text": [
      "Starting area OSM  /data/mineralogie/hautervo/data/Outputs/OSM/building/TL2/FRA/FRC/FRC.shp\n"
     ]
    },
    {
     "name": "stdout",
     "output_type": "stream",
     "text": [
      "Ending area OSM  /data/mineralogie/hautervo/data/Outputs/OSM/building/TL2/FRA/FRC/FRC.shp\n"
     ]
    },
    {
     "name": "stdout",
     "output_type": "stream",
     "text": [
      "Starting area OSM  /data/mineralogie/hautervo/data/Outputs/OSM/building/TL2/FRA/FRH/FRH.shp\n"
     ]
    },
    {
     "name": "stdout",
     "output_type": "stream",
     "text": [
      "Ending area OSM  /data/mineralogie/hautervo/data/Outputs/OSM/building/TL2/FRA/FRH/FRH.shp\n"
     ]
    },
    {
     "name": "stdout",
     "output_type": "stream",
     "text": [
      "Starting area OSM  /data/mineralogie/hautervo/data/Outputs/OSM/building/TL2/FRA/FRD/FRD.shp\n"
     ]
    },
    {
     "name": "stdout",
     "output_type": "stream",
     "text": [
      "Ending area OSM  /data/mineralogie/hautervo/data/Outputs/OSM/building/TL2/FRA/FRD/FRD.shp\n"
     ]
    },
    {
     "name": "stdout",
     "output_type": "stream",
     "text": [
      "Starting area OSM  /data/mineralogie/hautervo/data/Outputs/OSM/building/TL2/FRA/FRG/FRG.shp\n"
     ]
    },
    {
     "name": "stdout",
     "output_type": "stream",
     "text": [
      "Ending area OSM  /data/mineralogie/hautervo/data/Outputs/OSM/building/TL2/FRA/FRG/FRG.shp\n"
     ]
    },
    {
     "name": "stdout",
     "output_type": "stream",
     "text": [
      "Starting area OSM  /data/mineralogie/hautervo/data/Outputs/OSM/building/TL2/FRA/FR1/FR1.shp\n"
     ]
    },
    {
     "name": "stdout",
     "output_type": "stream",
     "text": [
      "Ending area OSM  /data/mineralogie/hautervo/data/Outputs/OSM/building/TL2/FRA/FR1/FR1.shp\n"
     ]
    },
    {
     "name": "stdout",
     "output_type": "stream",
     "text": [
      "Starting area OSM  /data/mineralogie/hautervo/data/Outputs/OSM/building/TL2/FRA/FRF/FRF.shp\n"
     ]
    },
    {
     "name": "stdout",
     "output_type": "stream",
     "text": [
      "Ending area OSM  /data/mineralogie/hautervo/data/Outputs/OSM/building/TL2/FRA/FRF/FRF.shp\n"
     ]
    },
    {
     "name": "stdout",
     "output_type": "stream",
     "text": [
      "Starting area OSM  /data/mineralogie/hautervo/data/Outputs/OSM/building/TL2/FRA/FRE/FRE.shp\n"
     ]
    },
    {
     "name": "stdout",
     "output_type": "stream",
     "text": [
      "Ending area OSM  /data/mineralogie/hautervo/data/Outputs/OSM/building/TL2/FRA/FRE/FRE.shp\n"
     ]
    },
    {
     "name": "stdout",
     "output_type": "stream",
     "text": [
      "Starting area OSM  /data/mineralogie/hautervo/data/Outputs/OSM/building/TL2/FRA/FRK/FRK.shp\n"
     ]
    },
    {
     "name": "stdout",
     "output_type": "stream",
     "text": [
      "Ending area OSM  /data/mineralogie/hautervo/data/Outputs/OSM/building/TL2/FRA/FRK/FRK.shp\n"
     ]
    },
    {
     "name": "stdout",
     "output_type": "stream",
     "text": [
      "Starting area OSM  /data/mineralogie/hautervo/data/Outputs/OSM/building/TL2/FRA/FRI/FRI.shp\n"
     ]
    },
    {
     "name": "stdout",
     "output_type": "stream",
     "text": [
      "Ending area OSM  /data/mineralogie/hautervo/data/Outputs/OSM/building/TL2/FRA/FRI/FRI.shp\n"
     ]
    },
    {
     "name": "stdout",
     "output_type": "stream",
     "text": [
      "Starting area OSM  /data/mineralogie/hautervo/data/Outputs/OSM/building/TL2/FRA/FRJ/FRJ.shp\n"
     ]
    },
    {
     "name": "stdout",
     "output_type": "stream",
     "text": [
      "Ending area OSM  /data/mineralogie/hautervo/data/Outputs/OSM/building/TL2/FRA/FRJ/FRJ.shp\n"
     ]
    }
   ],
   "source": [
    "preprocess()   "
   ]
  },
  {
   "cell_type": "code",
   "execution_count": 17,
   "metadata": {
    "execution": {
     "iopub.execute_input": "2024-11-07T17:50:05.038779Z",
     "iopub.status.busy": "2024-11-07T17:50:05.038137Z",
     "iopub.status.idle": "2024-11-07T17:50:05.049097Z",
     "shell.execute_reply": "2024-11-07T17:50:05.048025Z"
    }
   },
   "outputs": [
    {
     "name": "stdout",
     "output_type": "stream",
     "text": [
      "\u001b[32m Ended normally. \u001b[0m\n",
      "2024-11-07 18:50:05.044860\n"
     ]
    }
   ],
   "source": [
    "from datetime import datetime\n",
    "\n",
    "# Get the current date and time\n",
    "current_datetime = datetime.now()\n",
    "print(Fore.GREEN, \"Ended normally.\", Style.RESET_ALL)\n",
    "print(current_datetime)"
   ]
  },
  {
   "cell_type": "markdown",
   "metadata": {},
   "source": [
    "# TEST ZONE"
   ]
  },
  {
   "cell_type": "code",
   "execution_count": 18,
   "metadata": {
    "execution": {
     "iopub.execute_input": "2024-11-07T17:50:05.053480Z",
     "iopub.status.busy": "2024-11-07T17:50:05.052920Z",
     "iopub.status.idle": "2024-11-07T17:50:05.058360Z",
     "shell.execute_reply": "2024-11-07T17:50:05.057027Z"
    }
   },
   "outputs": [],
   "source": [
    "# for region in regions:\n",
    "#     for subregion in region.subregions:\n",
    "#         if subregion.name==\"FRK\":\n",
    "#             subregion.get_osm_by_tag(\"building\", \"FRK\", subregion.geometry, crs=subregion.crs)"
   ]
  },
  {
   "cell_type": "code",
   "execution_count": null,
   "metadata": {},
   "outputs": [],
   "source": []
  }
 ],
 "metadata": {
  "kernelspec": {
   "display_name": "venv",
   "language": "python",
   "name": "python3"
  },
  "language_info": {
   "codemirror_mode": {
    "name": "ipython",
    "version": 3
   },
   "file_extension": ".py",
   "mimetype": "text/x-python",
   "name": "python",
   "nbconvert_exporter": "python",
   "pygments_lexer": "ipython3",
   "version": "3.11.2"
  }
 },
 "nbformat": 4,
 "nbformat_minor": 4
}
